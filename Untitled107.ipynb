{
 "cells": [
  {
   "cell_type": "code",
   "execution_count": 2,
   "id": "a5f16b32-a233-4da7-ab3f-9632771cfc97",
   "metadata": {},
   "outputs": [
    {
     "name": "stdin",
     "output_type": "stream",
     "text": [
      "Enter the student's first name:  sriman\n",
      "Enter the student's last name:  selva\n",
      "Enter the grade for exam 1:  77\n",
      "Enter the grade for exam 2:  99\n",
      "Enter the grade for exam 3:  88\n",
      "Do you want to add another student? (yes/no):  yes\n",
      "Enter the student's first name:  jack\n",
      "Enter the student's last name:  lee\n",
      "Enter the grade for exam 1:  96\n",
      "Enter the grade for exam 2:  74\n",
      "Enter the grade for exam 3:  85\n",
      "Do you want to add another student? (yes/no):  yes\n",
      "Enter the student's first name:  amy\n",
      "Enter the student's last name:  lee\n",
      "Enter the grade for exam 1:  75\n",
      "Enter the grade for exam 2:  95\n",
      "Enter the grade for exam 3:  84\n",
      "Do you want to add another student? (yes/no):  yes\n",
      "Enter the student's first name:  tee\n",
      "Enter the student's last name:  ree\n",
      "Enter the grade for exam 1:  98\n",
      "Enter the grade for exam 2:  78\n",
      "Enter the grade for exam 3:  54\n",
      "Do you want to add another student? (yes/no):  no\n"
     ]
    }
   ],
   "source": [
    "# Exercise 9.3 by sriman\n",
    "import csv\n",
    "\n",
    "def write_student_grades():\n",
    "    # Open the file in write mode, and if it doesn't exist, Python will create it for you\n",
    "    with open('grades.csv', mode='w', newline='') as file:\n",
    "        writer = csv.writer(file)\n",
    "        \n",
    "        # This adds the header row (just to keep things neat)\n",
    "        writer.writerow(['firstname', 'lastname', 'exam1grade', 'exam2grade', 'exam3grade'])\n",
    "        \n",
    "        # We'll keep asking for student data until the user says they're done\n",
    "        while True:\n",
    "            firstname = input(\"Enter the student's first name: \")\n",
    "            lastname = input(\"Enter the student's last name: \")\n",
    "            exam1grade = int(input(\"Enter the grade for exam 1: \"))\n",
    "            exam2grade = int(input(\"Enter the grade for exam 2: \"))\n",
    "            exam3grade = int(input(\"Enter the grade for exam 3: \"))\n",
    "            \n",
    "            # Now, we write the student's info to the CSV file\n",
    "            writer.writerow([firstname, lastname, exam1grade, exam2grade, exam3grade])\n",
    "            \n",
    "            # Let's ask if the user wants to add more students or stop\n",
    "            cont = input(\"Do you want to add another student? (yes/no): \")\n",
    "            if cont.lower() != 'yes':\n",
    "                break\n",
    "\n",
    "write_student_grades()\n"
   ]
  },
  {
   "cell_type": "code",
   "execution_count": null,
   "id": "9268d7f6-5628-470b-a1c2-1b47a98373dc",
   "metadata": {},
   "outputs": [],
   "source": []
  }
 ],
 "metadata": {
  "kernelspec": {
   "display_name": "Python 3 (ipykernel)",
   "language": "python",
   "name": "python3"
  },
  "language_info": {
   "codemirror_mode": {
    "name": "ipython",
    "version": 3
   },
   "file_extension": ".py",
   "mimetype": "text/x-python",
   "name": "python",
   "nbconvert_exporter": "python",
   "pygments_lexer": "ipython3",
   "version": "3.12.4"
  }
 },
 "nbformat": 4,
 "nbformat_minor": 5
}
